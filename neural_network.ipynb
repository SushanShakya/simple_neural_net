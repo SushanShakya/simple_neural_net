{
 "cells": [
  {
   "cell_type": "code",
   "execution_count": 2,
   "metadata": {},
   "outputs": [
    {
     "data": {
      "text/plain": [
       "30.0"
      ]
     },
     "execution_count": 2,
     "metadata": {},
     "output_type": "execute_result"
    }
   ],
   "source": [
    "m = 3\n",
    "s = 10\n",
    "t = 1\n",
    "v = s / t \n",
    "a = v / t\n",
    "\n",
    "F = m * a\n",
    "F"
   ]
  },
  {
   "cell_type": "code",
   "execution_count": 29,
   "metadata": {},
   "outputs": [],
   "source": [
    "import random\n",
    "from functools import reduce"
   ]
  },
  {
   "cell_type": "code",
   "execution_count": 156,
   "metadata": {},
   "outputs": [],
   "source": [
    "class Constant:\n",
    "    def __init__(self, data, children = set(), op=\"\", gradient = 0, label=\"\"):\n",
    "        self.data = data\n",
    "        self.gradient = gradient\n",
    "        self.children = children\n",
    "        self.op = op\n",
    "        self.backpropagate = lambda : None \n",
    "        self.label = label\n",
    "    \n",
    "    def __pow__(self, pow):\n",
    "        out = Constant(self.data**pow, children=set((self, Constant(pow))), op=f\"**{pow}\")\n",
    "\n",
    "        def backpropagate():\n",
    "            self.gradient += out.gradient * (pow * (self.data ** (pow - 1)))\n",
    "        \n",
    "        out.backpropagate = backpropagate\n",
    "\n",
    "        return out\n",
    "    \n",
    "    def __neg__(self):\n",
    "        self.data = -self.data\n",
    "        return self\n",
    "    \n",
    "    def __sub__(self, other):\n",
    "        out = Constant(self.data - other.data, children=set((self, other)), op='-')\n",
    "\n",
    "        def backpropagate():\n",
    "            self.gradient += out.gradient \n",
    "            other.gradient += -out.gradient\n",
    "    \n",
    "        out.backpropagate = backpropagate\n",
    "        return out\n",
    "    \n",
    "    def __add__(self, other):\n",
    "        out = Constant(self.data + other.data, children=set((self, other)), op='+')\n",
    "\n",
    "        def backpropagate():\n",
    "            self.gradient += out.gradient \n",
    "            other.gradient += out.gradient\n",
    "    \n",
    "        out.backpropagate = backpropagate\n",
    "        return out\n",
    "    \n",
    "    def __truediv__(self, other):\n",
    "        out = Constant(self.data / other.data, children= set((self, other)), op=\"/\")\n",
    "        def backpropagate():\n",
    "            self.gradient += out.gradient * (1 / other.data)\n",
    "            other.gradient += out.gradient * - (self.data / (other.data ** 2))\n",
    "        out.backpropagate = backpropagate\n",
    "        return out\n",
    "    \n",
    "    def __mul__(self, other):\n",
    "        out = Constant(self.data * other.data, children= set((self, other)), op='*')\n",
    "        def backpropagate():\n",
    "            self.gradient += out.gradient * other.data\n",
    "            other.gradient += out.gradient * self.data\n",
    "        out.backpropagate = backpropagate\n",
    "        return out\n",
    "    \n",
    "    def backpropagate_recursive(self):\n",
    "        self.gradient = 1\n",
    "\n",
    "        def topological_sort(root: Constant)-> list[Constant]:\n",
    "            data = []\n",
    "            for child in list(root.children):\n",
    "                data.extend(topological_sort(child))\n",
    "            data.append(root)\n",
    "            return data\n",
    "        \n",
    "        nodes = topological_sort(self)\n",
    "\n",
    "        for node in reversed(nodes):\n",
    "            node.backpropagate()\n",
    "        \n",
    "    \n",
    "    def __repr__(self):\n",
    "        return self.__str__()\n",
    "    \n",
    "    def __str__(self):\n",
    "        return f\"Constant(label: {self.label}, Data:{self.data}, Gradient: {self.gradient})\""
   ]
  },
  {
   "cell_type": "code",
   "execution_count": 31,
   "metadata": {},
   "outputs": [
    {
     "data": {
      "text/plain": [
       "Constant(label: F, Data:30.0, Gradient: 0)"
      ]
     },
     "execution_count": 31,
     "metadata": {},
     "output_type": "execute_result"
    }
   ],
   "source": [
    "m = Constant(3, label=\"m\")\n",
    "s = Constant(10, label=\"s\")\n",
    "t = Constant(1, label=\"t\")\n",
    "\n",
    "v = s / t; v.label = \"v\"\n",
    "a = v / t; a.label = \"a\"\n",
    "\n",
    "F = m * a; F.label = \"F\"\n",
    "F"
   ]
  },
  {
   "cell_type": "code",
   "execution_count": 32,
   "metadata": {},
   "outputs": [],
   "source": [
    "F.gradient = 1\n",
    "F.backpropagate_recursive()"
   ]
  },
  {
   "cell_type": "code",
   "execution_count": 33,
   "metadata": {},
   "outputs": [],
   "source": [
    "def print_nodes(root: Constant, starting: bool = True):\n",
    "    if starting: print(root)\n",
    "    for child in root.children:\n",
    "        print(child)\n",
    "        \n",
    "    for child in root.children:\n",
    "        print_nodes(child, starting=False)"
   ]
  },
  {
   "cell_type": "code",
   "execution_count": 34,
   "metadata": {},
   "outputs": [
    {
     "name": "stdout",
     "output_type": "stream",
     "text": [
      "Constant(label: F, Data:30.0, Gradient: 1)\n",
      "Constant(label: m, Data:3, Gradient: 10.0)\n",
      "Constant(label: a, Data:10.0, Gradient: 3)\n",
      "Constant(label: v, Data:10.0, Gradient: 3.0)\n",
      "Constant(label: t, Data:1, Gradient: -60.0)\n",
      "Constant(label: s, Data:10, Gradient: 3.0)\n",
      "Constant(label: t, Data:1, Gradient: -60.0)\n"
     ]
    }
   ],
   "source": [
    "print_nodes(F)"
   ]
  },
  {
   "cell_type": "code",
   "execution_count": 69,
   "metadata": {},
   "outputs": [],
   "source": [
    "class Neuron:\n",
    "    def __init__(self, n_inputs):\n",
    "        self.n = n_inputs\n",
    "        self.bias = Constant(random.randint(-1, 1))\n",
    "        self.w  = [Constant(random.uniform(-1, 1)) for i in range(self.n)]\n",
    "    \n",
    "    def parameters(self):\n",
    "        return [self.bias] + self.w\n",
    "    \n",
    "    def compute(self, inputs):\n",
    "        inputs = map(lambda x: x if isinstance(x, Constant) else Constant(x), inputs)\n",
    "        return sum(map(lambda a: a[0] * a[1], zip(self.w, inputs)), self.bias)"
   ]
  },
  {
   "cell_type": "code",
   "execution_count": 70,
   "metadata": {},
   "outputs": [
    {
     "data": {
      "text/plain": [
       "Constant(label: , Data:0.1246020019641012, Gradient: 0)"
      ]
     },
     "execution_count": 70,
     "metadata": {},
     "output_type": "execute_result"
    }
   ],
   "source": [
    "n = Neuron(2)\n",
    "data = [2, 3]\n",
    "n.compute(data)"
   ]
  },
  {
   "cell_type": "code",
   "execution_count": 99,
   "metadata": {},
   "outputs": [],
   "source": [
    "class Layer:\n",
    "    def __init__(self, n_inputs, n_neurons):\n",
    "        self.neurons = [ Neuron(n_inputs) for i in range(n_neurons) ]\n",
    "    \n",
    "    def parameters(self):\n",
    "        p = []\n",
    "        for neuron in self.neurons:\n",
    "            p.extend(neuron.parameters())\n",
    "        return p \n",
    "        \n",
    "    def compute(self, inputs):\n",
    "        return list(map(lambda x: x.compute(inputs), self.neurons))"
   ]
  },
  {
   "cell_type": "code",
   "execution_count": 82,
   "metadata": {},
   "outputs": [
    {
     "data": {
      "text/plain": [
       "[Constant(label: , Data:3.175214228457051, Gradient: 0),\n",
       " Constant(label: , Data:-0.36958348101255645, Gradient: 0)]"
      ]
     },
     "execution_count": 82,
     "metadata": {},
     "output_type": "execute_result"
    }
   ],
   "source": [
    "inputs = [2, 2]\n",
    "\n",
    "layer = Layer(2, 2)\n",
    "layer.compute(inputs)"
   ]
  },
  {
   "cell_type": "code",
   "execution_count": 94,
   "metadata": {},
   "outputs": [],
   "source": [
    "class MultiLayerPerceptron:\n",
    "    def __init__(self, n_inputs, n_layers):\n",
    "        layer_sizes = [n_inputs]\n",
    "        layer_sizes.extend(n_layers)\n",
    "        self.layers = [Layer(layer_sizes[i], layer_sizes[i + 1]) for i in range(len(n_layers))]\n",
    "    \n",
    "    def parameters(self):\n",
    "        p = []\n",
    "        for layer in self.layers:\n",
    "            p.extend(layer.parameters())\n",
    "        return p \n",
    "\n",
    "    def compute(self, inputs):\n",
    "        return reduce(lambda a,b: b.compute(a), self.layers, inputs)"
   ]
  },
  {
   "cell_type": "code",
   "execution_count": 131,
   "metadata": {},
   "outputs": [],
   "source": [
    "# Creation of MLP\n",
    "mlp = MultiLayerPerceptron(2, [3,4,1])"
   ]
  },
  {
   "cell_type": "code",
   "execution_count": 151,
   "metadata": {},
   "outputs": [],
   "source": [
    "def lossfn(outputs: list[Constant], expected_output: list[int]) -> Constant:\n",
    "    return sum(map(lambda a: (a[0] - Constant(a[1]))**2 ,zip(outputs, expected_output)), start=Constant(0))"
   ]
  },
  {
   "cell_type": "code",
   "execution_count": 166,
   "metadata": {},
   "outputs": [
    {
     "data": {
      "text/plain": [
       "[Constant(label: , Data:1.9710839082468654, Gradient: 0)]"
      ]
     },
     "execution_count": 166,
     "metadata": {},
     "output_type": "execute_result"
    }
   ],
   "source": [
    "# Gradient Descent\n",
    "ip = [2, 3]\n",
    "expected_output = [2]\n",
    "\n",
    "while(1):\n",
    "    output = mlp.compute(ip)\n",
    "\n",
    "    ## Compute Loss\n",
    "    loss = lossfn(output, expected_output)\n",
    "\n",
    "    ## Break the loop is loss is within 0.01\n",
    "    if loss.data <= 0.0015:\n",
    "        break\n",
    "\n",
    "    ## Reset Gradients\n",
    "    for p in mlp.parameters():\n",
    "        p.gradient = 0\n",
    "\n",
    "    ## Backpropagate\n",
    "    loss.backpropagate_recursive()\n",
    "\n",
    "\n",
    "    ## Tweak Parameters\n",
    "    learning_rate = 0.001\n",
    "\n",
    "    for p in mlp.parameters():\n",
    "        p.data += learning_rate * (-p.gradient)\n",
    "\n",
    "output"
   ]
  },
  {
   "cell_type": "code",
   "execution_count": 167,
   "metadata": {},
   "outputs": [
    {
     "data": {
      "text/plain": [
       "Constant(label: , Data:0.0008361403622756981, Gradient: 0)"
      ]
     },
     "execution_count": 167,
     "metadata": {},
     "output_type": "execute_result"
    }
   ],
   "source": [
    "loss"
   ]
  },
  {
   "cell_type": "code",
   "execution_count": null,
   "metadata": {},
   "outputs": [],
   "source": []
  }
 ],
 "metadata": {
  "kernelspec": {
   "display_name": "Python 3 (ipykernel)",
   "language": "python",
   "name": "python3"
  },
  "language_info": {
   "codemirror_mode": {
    "name": "ipython",
    "version": 3
   },
   "file_extension": ".py",
   "mimetype": "text/x-python",
   "name": "python",
   "nbconvert_exporter": "python",
   "pygments_lexer": "ipython3",
   "version": "3.12.6"
  }
 },
 "nbformat": 4,
 "nbformat_minor": 4
}
